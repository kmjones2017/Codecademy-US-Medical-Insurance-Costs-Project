{
 "cells": [
  {
   "cell_type": "markdown",
   "metadata": {},
   "source": [
    "# U.S. Medical Insurance Costs"
   ]
  },
  {
   "cell_type": "markdown",
   "metadata": {},
   "source": [
    "## Goals / Scope\n",
    "- Average age of patients in dataset\n",
    "- Average age of patients with at least one child\n",
    "- Where most patients are from\n",
    "- Smoker vs non-smoker cost difference\n",
    "- Number of patients and average insurance cost by BMI categories"
   ]
  },
  {
   "cell_type": "markdown",
   "metadata": {},
   "source": [
    "### What is the average age of patients in the dataset?"
   ]
  },
  {
   "cell_type": "code",
   "execution_count": 119,
   "metadata": {},
   "outputs": [
    {
     "name": "stdout",
     "output_type": "stream",
     "text": [
      "39.20702541106129\n"
     ]
    }
   ],
   "source": [
    "# importing the dataset\n",
    "import csv\n",
    "\n",
    "with open('insurance.csv', newline='') as i_data:\n",
    "    insurance_csv_data = csv.DictReader(i_data)\n",
    "\n",
    "    #since no names have been included, I gave everyone an id\n",
    "    insurance_data = {id: row for id, row in enumerate(insurance_csv_data)} \n",
    "\n",
    "# calculating the average age of patients\n",
    "\n",
    "def average_age_calc(insurance_data):\n",
    "    total_age = 0\n",
    "    \n",
    "    for patient in insurance_data.values():\n",
    "        total_age += int(patient['age'])\n",
    "    \n",
    "    # print(total_age) # 52,459 years\n",
    "    \n",
    "    average_age = total_age / len(insurance_data)\n",
    "\n",
    "    return average_age\n",
    "\n",
    "print(average_age_calc(insurance_data)) # average age rounded to 39.21 years old\n",
    "        "
   ]
  },
  {
   "cell_type": "markdown",
   "metadata": {},
   "source": [
    "#### Conclusion\n",
    "The average age of patients in the dataset is 39.21 years old."
   ]
  },
  {
   "cell_type": "markdown",
   "metadata": {},
   "source": [
    "### What is the average age of patients with at least one child?"
   ]
  },
  {
   "cell_type": "code",
   "execution_count": 109,
   "metadata": {},
   "outputs": [
    {
     "name": "stdout",
     "output_type": "stream",
     "text": [
      "39.78010471204188\n"
     ]
    }
   ],
   "source": [
    "def average_age_of_patients_with_child(insurance_data):\n",
    "\n",
    "    patients_with_child_counter = 0\n",
    "\n",
    "    total_age_with_child = 0\n",
    "\n",
    "    for patient in insurance_data.values():\n",
    "        if int(patient['children']) > 0:\n",
    "            total_age_with_child += int(patient['age'])\n",
    "            patients_with_child_counter += 1\n",
    "    \n",
    "    average_age_of_patients_with_child = total_age_with_child / patients_with_child_counter\n",
    "\n",
    "    return average_age_of_patients_with_child\n",
    "\n",
    "print(average_age_of_patients_with_child(insurance_data)) # average age of patients with one or more children rounded to 39.78 years old\n"
   ]
  },
  {
   "cell_type": "markdown",
   "metadata": {},
   "source": [
    "#### Conclusion\n",
    "The average age of patients in the dataset with one or more children is 39.78 years old."
   ]
  },
  {
   "cell_type": "markdown",
   "metadata": {},
   "source": [
    "### Where are Most Patients From?"
   ]
  },
  {
   "cell_type": "code",
   "execution_count": 105,
   "metadata": {},
   "outputs": [
    {
     "name": "stdout",
     "output_type": "stream",
     "text": [
      "defaultdict(<class 'int'>, {'southwest': 325, 'southeast': 364, 'northwest': 325, 'northeast': 324})\n"
     ]
    }
   ],
   "source": [
    "from collections import defaultdict\n",
    "\n",
    "def patient_distribution_calc(insurance_data):\n",
    "\n",
    "    number_of_patients_by_region = defaultdict(int)\n",
    "\n",
    "    for patient in insurance_data.values():\n",
    "        origin = patient.get('region')\n",
    "        if origin:\n",
    "            number_of_patients_by_region[origin] += 1\n",
    "\n",
    "    return number_of_patients_by_region\n",
    "\n",
    "print(patient_distribution_calc(insurance_data))\n",
    "    "
   ]
  },
  {
   "cell_type": "markdown",
   "metadata": {},
   "source": [
    "#### Conclusion\n",
    "Based on my calculations, the distribution of patients is fairly even at these numbers:\n",
    "- Southwest: 325\n",
    "- Southeast: 364\n",
    "- Northwest: 325\n",
    "- Northeast: 324\n",
    "\n",
    "However, the majority of patients come from the Southeast region of the United States."
   ]
  },
  {
   "cell_type": "markdown",
   "metadata": {},
   "source": [
    "### What is the cost difference between smokers and non-smokers?"
   ]
  },
  {
   "cell_type": "code",
   "execution_count": 140,
   "metadata": {},
   "outputs": [
    {
     "name": "stdout",
     "output_type": "stream",
     "text": [
      "116.66669198433817\n"
     ]
    }
   ],
   "source": [
    "def smoker_vs_non_smoker_average_cost_calc(insurance_data):\n",
    "    smoker_total_costs = 0\n",
    "    total_smokers = 0\n",
    "    non_smoker_total_costs = 0\n",
    "    total_non_smokers = 0\n",
    "    \n",
    "    for patient in insurance_data.values():\n",
    "        if patient['smoker'] == 'yes':\n",
    "            total_smokers += 1\n",
    "            smoker_total_costs += float(patient['charges'])\n",
    "        else:\n",
    "            total_non_smokers += 1\n",
    "            non_smoker_total_costs += float(patient['charges'])\n",
    "\n",
    "    average_cost_for_smokers = smoker_total_costs / total_smokers\n",
    "\n",
    "    average_cost_for_non_smokers = non_smoker_total_costs / total_non_smokers\n",
    "\n",
    "    percent_diff = (abs(average_cost_for_smokers - average_cost_for_non_smokers)) / ((average_cost_for_smokers + average_cost_for_non_smokers) / 2) * 100\n",
    "\n",
    "    return percent_diff\n",
    "\n",
    "print(smoker_vs_non_smoker_average_cost_calc(insurance_data)) # 116.67% increase\n",
    "            "
   ]
  },
  {
   "cell_type": "markdown",
   "metadata": {},
   "source": [
    "#### Conclusion\n",
    "Since smokers pay about 116.67% more in charges for insurance, I would recommend quitting smoking if possible."
   ]
  },
  {
   "cell_type": "markdown",
   "metadata": {},
   "source": [
    "### What is the number of patients in each BMI category?"
   ]
  },
  {
   "cell_type": "code",
   "execution_count": 189,
   "metadata": {},
   "outputs": [
    {
     "name": "stdout",
     "output_type": "stream",
     "text": [
      "{'Underweight': {'Num_of_patients': 20, 'Average_cost': 8852.200585000002}, 'Normal Weight': {'Num_of_patients': 222, 'Average_cost': 10379.499732162163}, 'Overweight': {'Num_of_patients': 377, 'Average_cost': 10993.994037132627}, 'Obese': {'Num_of_patients': 719, 'Average_cost': 15479.549772628647}}\n",
      "39.444992280335875\n"
     ]
    }
   ],
   "source": [
    "def categorize_and_average_by_bmi(insurance_data):\n",
    "    # bmi_categories = {\n",
    "    #     'Underweight': '< 18.5',\n",
    "    #     'Normal weight': '18.5 to 24.9',\n",
    "    #     'Overweight': '25 to 29.9',\n",
    "    #     'Obese': '>= 30'\n",
    "    # }\n",
    "\n",
    "    underweight_total = 0\n",
    "    normal_weight_total = 0\n",
    "    overweight_total = 0\n",
    "    obese_total = 0\n",
    "\n",
    "    # initialized dictionary\n",
    "    patients_by_bmi_category = {\n",
    "        'Underweight': {'Num_of_patients': 0, 'Average_cost': 0}, \n",
    "        'Normal Weight': {'Num_of_patients': 0, 'Average_cost': 0}, \n",
    "        'Overweight': {'Num_of_patients': 0, 'Average_cost': 0}, \n",
    "        'Obese': {'Num_of_patients': 0, 'Average_cost': 0}\n",
    "    }\n",
    "\n",
    "    for patient in insurance_data.values():\n",
    "        bmi = float(patient['bmi'])\n",
    "        cost = float(patient['charges'])\n",
    "\n",
    "        if bmi < 18.5:\n",
    "            category = 'Underweight'\n",
    "            underweight_total += cost\n",
    "            \n",
    "        elif bmi >= 18.5 and bmi <= 24.9:\n",
    "            category = 'Normal Weight'\n",
    "            normal_weight_total += cost\n",
    "            \n",
    "        elif bmi >= 25 and bmi <= 29.9:\n",
    "            category = 'Overweight'\n",
    "            overweight_total += cost\n",
    "        \n",
    "        else:\n",
    "            category = 'Obese'\n",
    "            obese_total += cost\n",
    "\n",
    "        patients_by_bmi_category[category]['Num_of_patients'] += 1\n",
    "        \n",
    "    # Average calculations for each category\n",
    "    underweight_average = underweight_total / float(patients_by_bmi_category['Underweight']['Num_of_patients'])\n",
    "    patients_by_bmi_category['Underweight']['Average_cost'] += underweight_average\n",
    "\n",
    "    normal_weight_average = normal_weight_total / float(patients_by_bmi_category['Normal Weight']['Num_of_patients'])\n",
    "    patients_by_bmi_category['Normal Weight']['Average_cost'] += normal_weight_average\n",
    "\n",
    "    overweight_average = overweight_total / float(patients_by_bmi_category['Overweight']['Num_of_patients'])\n",
    "    patients_by_bmi_category['Overweight']['Average_cost'] += overweight_average\n",
    "\n",
    "    obese_average = obese_total / float(patients_by_bmi_category['Obese']['Num_of_patients'])\n",
    "    patients_by_bmi_category['Obese']['Average_cost'] += obese_average\n",
    "    \n",
    "\n",
    "    return patients_by_bmi_category\n",
    "    \n",
    "\n",
    "print(categorize_and_average_by_bmi(insurance_data))\n",
    "comparison_dict = categorize_and_average_by_bmi(insurance_data)\n",
    "\n",
    "def calc_percent_diffs(comparison_dict):\n",
    "    normal_weight_vs_obese_diff = (abs(comparison_dict['Normal Weight']['Average_cost'] - comparison_dict['Obese']['Average_cost'])) / ((comparison_dict['Normal Weight']['Average_cost'] + comparison_dict['Obese']['Average_cost']) / 2) * 100\n",
    "    return normal_weight_vs_obese_diff\n",
    "\n",
    "print(calc_percent_diffs(comparison_dict)) # 39.44"
   ]
  },
  {
   "cell_type": "markdown",
   "metadata": {},
   "source": [
    "#### Conclusion\n",
    "Body Mass Index is not considered an accurate measure of healthy weights by modern standards, and yet medical insurance calculations still take it into account when calculating prices. Considering how many people qualify as 'obese' based on their BMI and pay higher rates because of it, it should not be included in insurance cost calculations.\n",
    "\n",
    "Here are my calculations rounded:\n",
    "\n",
    "| BMI Category | Number of Patients | Average Cost of Medical Insurance ($) |\n",
    "| :-: | :-: | :-: |\n",
    "| Underweight | 20 | 8852.20 \n",
    "| Normal Weight | 222 | 10379.50 \n",
    "| Overwight | 377 | 10994.00 \n",
    "| Obese | 719 | 15479.55 \n",
    "\n",
    "Assuming that being underweight by BMI standards is unhealthy and should not be aspired to, there's a 39.44% spike in insurance costs between people with 'normal' weight and people with 'obese' weight. "
   ]
  },
  {
   "cell_type": "markdown",
   "metadata": {},
   "source": [
    "## Final Thoughts\n",
    "\n",
    "There are many factors that go into calculating medical insurance costs, and some of them are outdated, but it would appear that the most influential factor that determines the cost is whether or not one is a smoker because it has the largest percentage increase."
   ]
  }
 ],
 "metadata": {
  "kernelspec": {
   "display_name": "Python 3 (ipykernel)",
   "language": "python",
   "name": "python3"
  },
  "language_info": {
   "codemirror_mode": {
    "name": "ipython",
    "version": 3
   },
   "file_extension": ".py",
   "mimetype": "text/x-python",
   "name": "python",
   "nbconvert_exporter": "python",
   "pygments_lexer": "ipython3",
   "version": "3.12.4"
  }
 },
 "nbformat": 4,
 "nbformat_minor": 4
}
